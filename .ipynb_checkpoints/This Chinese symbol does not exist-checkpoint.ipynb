{
 "cells": [
  {
   "cell_type": "markdown",
   "metadata": {
    "colab_type": "text",
    "id": "qVp0qjS00Hbb"
   },
   "source": [
    "# This Chinese character does not exist\n",
    "\n",
    "Here's a fun idea: let's train a GANN to make \"characters\" without actually making any characters it's seen. It's not an absurd request, is it? GANNs can do that with human faces.\n",
    "\n",
    "Note that something like the MNIST database isn't useful to us: we're not thinking of each character as a \"cluster\" or a distribution of its own (where each style of writing that character is a data point), but rather thinking of each character as a data point of a larger distribution.\n",
    "\n",
    "Now with most writing systems, this is hard: we only have a very small sample of the distribution (in English, a sample of size 26 -- in the Indic numeral system, a sample of size 10). Well, humans can make fake characters in these scripts too, so it should be possible (*mumble-mumble* transfer learning *mumble-mumble* neural style transfer), but that's a bit hard.\n",
    "\n",
    "Fortunately, Chinese characters provide a large sample: a sample size of over 80,000 as available from [this webpage](http://hanzidb.org/character-list?page=749). "
   ]
  },
  {
   "cell_type": "code",
   "execution_count": null,
   "metadata": {
    "colab": {
     "base_uri": "https://localhost:8080/",
     "height": 442
    },
    "colab_type": "code",
    "executionInfo": {
     "elapsed": 15488,
     "status": "ok",
     "timestamp": 1593490554331,
     "user": {
      "displayName": "Abhimanyu Pallavi Sudhir",
      "photoUrl": "https://lh3.googleusercontent.com/a-/AOh14GhFZu17HgoXYoDJOw2YugGLzFh9EuOkdrWEiC5WGw=s64",
      "userId": "06652021253348999495"
     },
     "user_tz": -330
    },
    "id": "Xgfizy5-_s6g",
    "outputId": "6ecc7d56-e487-4b0f-ad43-055a1c908be6"
   },
   "outputs": [],
   "source": [
    "### Imports ###\n",
    "\n",
    "# Import saved variables\n",
    "import pickle\n",
    "\n",
    "# Plotting\n",
    "from plotnine import *\n",
    "\n",
    "# Math, data and ML\n",
    "import numpy as np\n",
    "import pandas as pd\n",
    "import tensorflow as tf\n",
    "from tensorflow.keras import Model, Sequential, layers, losses\n",
    "\n",
    "# Miscellaneous\n",
    "from itertools import product"
   ]
  },
  {
   "cell_type": "code",
   "execution_count": 43,
   "metadata": {},
   "outputs": [],
   "source": [
    "### Dataset of Chinese characters ###\n",
    "\n",
    "with open('x_train.pickle', 'rb') as f:\n",
    "    x_train = pickle.load(f)\n",
    "    \n",
    "ds_train = tf.data.Dataset.from_tensor_slices(x_train).batch(256)"
   ]
  },
  {
   "cell_type": "code",
   "execution_count": 50,
   "metadata": {
    "colab": {
     "base_uri": "https://localhost:8080/",
     "height": 465
    },
    "colab_type": "code",
    "executionInfo": {
     "elapsed": 708,
     "status": "ok",
     "timestamp": 1593491091105,
     "user": {
      "displayName": "Abhimanyu Pallavi Sudhir",
      "photoUrl": "https://lh3.googleusercontent.com/a-/AOh14GhFZu17HgoXYoDJOw2YugGLzFh9EuOkdrWEiC5WGw=s64",
      "userId": "06652021253348999495"
     },
     "user_tz": -330
    },
    "id": "gg5Xo18ntTNN",
    "outputId": "484e37d7-8917-449e-ae88-340d39a073f6"
   },
   "outputs": [
    {
     "data": {
      "image/png": "[encoded data removed]",
      "text/plain": [
       "<Figure size 640x480 with 1 Axes>"
      ]
     },
     "metadata": {},
     "output_type": "display_data"
    },
    {
     "name": "stdout",
     "output_type": "stream",
     "text": [
      "<ggplot: (114490466596)>\n"
     ]
    }
   ],
   "source": [
    "### Plotting ###\n",
    "\n",
    "# takes a np 2darray and plots a heat map\n",
    "def plot_bw(arr): \n",
    "  ypx, xpx = np.shape(arr)\n",
    "  yvals, xvals = range(ypx), range(xpx)\n",
    "  yxvals = np.array(list(product(yvals, xvals)))\n",
    "  dvals = np.array([ypx - 1 - arr[yx[0]][yx[1]] for yx in yxvals])\n",
    "  data = pd.DataFrame({'X' : yxvals[:, 1], \n",
    "                       'Y' : yxvals[:, 0][::-1], \n",
    "                       'Data' : dvals})\n",
    "  print(ggplot(data)\n",
    "    + aes(x = 'X', y = 'Y', fill = 'Data')\n",
    "    + geom_tile())\n",
    "\n",
    "# takes a np 3darray and plots kth channel\n",
    "def plot_channel(lay, k): \n",
    "  ypx, xpx, chans = np.shape(lay)\n",
    "  arrs = [lay[:, :, i] for i in range(chans)]\n",
    "  plots = plot_bw(arrs[k])\n",
    "\n",
    "# Example\n",
    "plot_channel(x_train[70000], 0)"
   ]
  },
  {
   "cell_type": "code",
   "execution_count": 51,
   "metadata": {
    "colab": {},
    "colab_type": "code",
    "executionInfo": {
     "elapsed": 2672,
     "status": "ok",
     "timestamp": 1593491093769,
     "user": {
      "displayName": "Abhimanyu Pallavi Sudhir",
      "photoUrl": "https://lh3.googleusercontent.com/a-/AOh14GhFZu17HgoXYoDJOw2YugGLzFh9EuOkdrWEiC5WGw=s64",
      "userId": "06652021253348999495"
     },
     "user_tz": -330
    },
    "id": "td-6NNwGoYEc"
   },
   "outputs": [],
   "source": [
    "### Defining the networks and training functions ###\n",
    "\n",
    "Generator = Sequential(\n",
    "    [\n",
    "     layers.Dense(7 * 7 * 256, use_bias = False, input_shape = (100,)),\n",
    "     layers.Dense(7 * 7 * 256, use_bias = False, ),\n",
    "     layers.BatchNormalization(),\n",
    "     layers.LeakyReLU(),\n",
    "     layers.Reshape((7, 7, 256)),\n",
    "\n",
    "     layers.Conv2DTranspose(128, (5, 5), strides = (1, 1), padding = 'same', use_bias = False),\n",
    "     layers.BatchNormalization(),\n",
    "     layers.LeakyReLU(),\n",
    "\n",
    "     layers.Conv2DTranspose(64, (5, 5), strides = (2, 2), padding = 'same', use_bias = False),\n",
    "     layers.BatchNormalization(),\n",
    "     layers.LeakyReLU(),\n",
    "\n",
    "     layers.Conv2DTranspose(1, (5, 5), strides = (2, 2), padding = 'same', use_bias = False, activation = 'tanh')\n",
    "    ]\n",
    ")\n",
    "\n",
    "Discriminator = Sequential(\n",
    "    [\n",
    "     layers.Conv2D(64, (5, 5), strides = (2, 2), padding = 'same', input_shape = (28, 28, 1)),\n",
    "     layers.LeakyReLU(),\n",
    "     layers.Dropout(0.3),\n",
    "\n",
    "     layers.Conv2D(128, (5, 5), strides=(2, 2), padding='same'),\n",
    "     layers.LeakyReLU(),\n",
    "     layers.Dropout(0.3),\n",
    "     \n",
    "     layers.Flatten(),\n",
    "     layers.Dense(1)\n",
    "    ]\n",
    ")\n",
    "\n",
    "lossfun = losses.BinaryCrossentropy(from_logits = True)\n",
    "\n",
    "def lossfun_Gen(out_fake):\n",
    "  return lossfun(tf.ones_like(out_fake), out_fake)\n",
    "\n",
    "def lossfun_Dis(out_real, out_fake):\n",
    "  return lossfun(tf.ones_like(out_real), out_real) + lossfun(tf.zeros_like(out_fake), out_fake)\n",
    "\n",
    "opt_Gen = tf.keras.optimizers.Adam(0.0001)\n",
    "opt_Dis = tf.keras.optimizers.Adam(0.0001)\n",
    "\n",
    "@tf.function\n",
    "def train_step(images_real):\n",
    "  seed = tf.random.normal((32, 100))\n",
    "  with tf.GradientTape() as tape_Gen, tf.GradientTape() as tape_Dis:\n",
    "    images_fake = Generator(seed, training = True)\n",
    "    out_real = Discriminator(images_real, training = True)\n",
    "    out_fake = Discriminator(images_fake, training = True)\n",
    "    loss_Gen = lossfun_Gen(out_fake)\n",
    "    loss_Dis = lossfun_Dis(out_real, out_fake)\n",
    "  grad_Gen = tape_Gen.gradient(loss_Gen, Generator.trainable_variables)\n",
    "  grad_Dis = tape_Dis.gradient(loss_Dis, Discriminator.trainable_variables) \n",
    "  opt_Gen.apply_gradients(zip(grad_Gen, Generator.trainable_variables))\n",
    "  opt_Dis.apply_gradients(zip(grad_Dis, Discriminator.trainable_variables))\n",
    "\n",
    "def test_step(seed):\n",
    "  image_fake = Generator(seed)[0]\n",
    "  plot_channel(image_fake, 0)\n",
    "\n",
    "def train(ds_train, epochs):\n",
    "  for epoch in range(epochs):\n",
    "    for images_real in ds_train:\n",
    "      train_step(images_real)\n",
    "    seed = tf.random.normal((1, 100))\n",
    "    test_step(seed)\n",
    "    print('Epoch {}'.format(epoch))"
   ]
  },
  {
   "cell_type": "code",
   "execution_count": 52,
   "metadata": {
    "colab": {},
    "colab_type": "code",
    "id": "L8ljE3zVHZRX"
   },
   "outputs": [
    {
     "ename": "TypeError",
     "evalue": "in converted code:\n\n    <ipython-input-51-8514cf2fc879>:54 train_step *\n        out_real = Discriminator(images_real, training = True)\n    C:\\Users\\abhim\\Anaconda3\\lib\\site-packages\\tensorflow\\python\\keras\\engine\\base_layer.py:634 __call__\n        outputs = call_fn(inputs, *args, **kwargs)\n    C:\\Users\\abhim\\Anaconda3\\lib\\site-packages\\tensorflow\\python\\keras\\engine\\sequential.py:247 call\n        return super(Sequential, self).call(inputs, training=training, mask=mask)\n    C:\\Users\\abhim\\Anaconda3\\lib\\site-packages\\tensorflow\\python\\keras\\engine\\network.py:751 call\n        return self._run_internal_graph(inputs, training=training, mask=mask)\n    C:\\Users\\abhim\\Anaconda3\\lib\\site-packages\\tensorflow\\python\\keras\\engine\\network.py:893 _run_internal_graph\n        output_tensors = layer(computed_tensors, **kwargs)\n    C:\\Users\\abhim\\Anaconda3\\lib\\site-packages\\tensorflow\\python\\keras\\engine\\base_layer.py:634 __call__\n        outputs = call_fn(inputs, *args, **kwargs)\n    C:\\Users\\abhim\\Anaconda3\\lib\\site-packages\\tensorflow\\python\\keras\\layers\\convolutional.py:196 call\n        outputs = self._convolution_op(inputs, self.kernel)\n    C:\\Users\\abhim\\Anaconda3\\lib\\site-packages\\tensorflow\\python\\ops\\nn_ops.py:1079 __call__\n        return self.conv_op(inp, filter)\n    C:\\Users\\abhim\\Anaconda3\\lib\\site-packages\\tensorflow\\python\\ops\\nn_ops.py:635 __call__\n        return self.call(inp, filter)\n    C:\\Users\\abhim\\Anaconda3\\lib\\site-packages\\tensorflow\\python\\ops\\nn_ops.py:234 __call__\n        name=self.name)\n    C:\\Users\\abhim\\Anaconda3\\lib\\site-packages\\tensorflow\\python\\ops\\nn_ops.py:1953 conv2d\n        name=name)\n    C:\\Users\\abhim\\Anaconda3\\lib\\site-packages\\tensorflow\\python\\ops\\gen_nn_ops.py:1160 conv2d\n        data_format=data_format, dilations=dilations, name=name)\n    C:\\Users\\abhim\\Anaconda3\\lib\\site-packages\\tensorflow\\python\\framework\\op_def_library.py:563 _apply_op_helper\n        inferred_from[input_arg.type_attr]))\n\n    TypeError: Input 'filter' of 'Conv2D' Op has type float32 that does not match type float64 of argument 'input'.\n",
     "output_type": "error",
     "traceback": [
      "\u001b[1;31m---------------------------------------------------------------------------\u001b[0m",
      "\u001b[1;31mTypeError\u001b[0m                                 Traceback (most recent call last)",
      "\u001b[1;32m<ipython-input-52-f808732eba47>\u001b[0m in \u001b[0;36m<module>\u001b[1;34m\u001b[0m\n\u001b[1;32m----> 1\u001b[1;33m \u001b[0mtrain\u001b[0m\u001b[1;33m(\u001b[0m\u001b[0mds_train\u001b[0m\u001b[1;33m,\u001b[0m \u001b[1;36m50\u001b[0m\u001b[1;33m)\u001b[0m\u001b[1;33m\u001b[0m\u001b[1;33m\u001b[0m\u001b[0m\n\u001b[0m",
      "\u001b[1;32m<ipython-input-51-8514cf2fc879>\u001b[0m in \u001b[0;36mtrain\u001b[1;34m(ds_train, epochs)\u001b[0m\n\u001b[0;32m     68\u001b[0m   \u001b[1;32mfor\u001b[0m \u001b[0mepoch\u001b[0m \u001b[1;32min\u001b[0m \u001b[0mrange\u001b[0m\u001b[1;33m(\u001b[0m\u001b[0mepochs\u001b[0m\u001b[1;33m)\u001b[0m\u001b[1;33m:\u001b[0m\u001b[1;33m\u001b[0m\u001b[1;33m\u001b[0m\u001b[0m\n\u001b[0;32m     69\u001b[0m     \u001b[1;32mfor\u001b[0m \u001b[0mimages_real\u001b[0m \u001b[1;32min\u001b[0m \u001b[0mds_train\u001b[0m\u001b[1;33m:\u001b[0m\u001b[1;33m\u001b[0m\u001b[1;33m\u001b[0m\u001b[0m\n\u001b[1;32m---> 70\u001b[1;33m       \u001b[0mtrain_step\u001b[0m\u001b[1;33m(\u001b[0m\u001b[0mimages_real\u001b[0m\u001b[1;33m)\u001b[0m\u001b[1;33m\u001b[0m\u001b[1;33m\u001b[0m\u001b[0m\n\u001b[0m\u001b[0;32m     71\u001b[0m     \u001b[0mseed\u001b[0m \u001b[1;33m=\u001b[0m \u001b[0mtf\u001b[0m\u001b[1;33m.\u001b[0m\u001b[0mrandom\u001b[0m\u001b[1;33m.\u001b[0m\u001b[0mnormal\u001b[0m\u001b[1;33m(\u001b[0m\u001b[1;33m(\u001b[0m\u001b[1;36m1\u001b[0m\u001b[1;33m,\u001b[0m \u001b[1;36m100\u001b[0m\u001b[1;33m)\u001b[0m\u001b[1;33m)\u001b[0m\u001b[1;33m\u001b[0m\u001b[1;33m\u001b[0m\u001b[0m\n\u001b[0;32m     72\u001b[0m     \u001b[0mtest_step\u001b[0m\u001b[1;33m(\u001b[0m\u001b[0mseed\u001b[0m\u001b[1;33m)\u001b[0m\u001b[1;33m\u001b[0m\u001b[1;33m\u001b[0m\u001b[0m\n",
      "\u001b[1;32m~\\Anaconda3\\lib\\site-packages\\tensorflow\\python\\eager\\def_function.py\u001b[0m in \u001b[0;36m__call__\u001b[1;34m(self, *args, **kwds)\u001b[0m\n\u001b[0;32m    412\u001b[0m     \u001b[1;31m# This is the first call of __call__, so we have to initialize.\u001b[0m\u001b[1;33m\u001b[0m\u001b[1;33m\u001b[0m\u001b[1;33m\u001b[0m\u001b[0m\n\u001b[0;32m    413\u001b[0m     \u001b[0minitializer_map\u001b[0m \u001b[1;33m=\u001b[0m \u001b[1;33m{\u001b[0m\u001b[1;33m}\u001b[0m\u001b[1;33m\u001b[0m\u001b[1;33m\u001b[0m\u001b[0m\n\u001b[1;32m--> 414\u001b[1;33m     \u001b[0mself\u001b[0m\u001b[1;33m.\u001b[0m\u001b[0m_initialize\u001b[0m\u001b[1;33m(\u001b[0m\u001b[0margs\u001b[0m\u001b[1;33m,\u001b[0m \u001b[0mkwds\u001b[0m\u001b[1;33m,\u001b[0m \u001b[0madd_initializers_to\u001b[0m\u001b[1;33m=\u001b[0m\u001b[0minitializer_map\u001b[0m\u001b[1;33m)\u001b[0m\u001b[1;33m\u001b[0m\u001b[1;33m\u001b[0m\u001b[0m\n\u001b[0m\u001b[0;32m    415\u001b[0m     \u001b[1;32mif\u001b[0m \u001b[0mself\u001b[0m\u001b[1;33m.\u001b[0m\u001b[0m_created_variables\u001b[0m\u001b[1;33m:\u001b[0m\u001b[1;33m\u001b[0m\u001b[1;33m\u001b[0m\u001b[0m\n\u001b[0;32m    416\u001b[0m       \u001b[1;32mtry\u001b[0m\u001b[1;33m:\u001b[0m\u001b[1;33m\u001b[0m\u001b[1;33m\u001b[0m\u001b[0m\n",
      "\u001b[1;32m~\\Anaconda3\\lib\\site-packages\\tensorflow\\python\\eager\\def_function.py\u001b[0m in \u001b[0;36m_initialize\u001b[1;34m(self, args, kwds, add_initializers_to)\u001b[0m\n\u001b[0;32m    355\u001b[0m     self._concrete_stateful_fn = (\n\u001b[0;32m    356\u001b[0m         self._stateful_fn._get_concrete_function_internal_garbage_collected(  # pylint: disable=protected-access\n\u001b[1;32m--> 357\u001b[1;33m             *args, **kwds))\n\u001b[0m\u001b[0;32m    358\u001b[0m \u001b[1;33m\u001b[0m\u001b[0m\n\u001b[0;32m    359\u001b[0m     \u001b[1;32mdef\u001b[0m \u001b[0minvalid_creator_scope\u001b[0m\u001b[1;33m(\u001b[0m\u001b[1;33m*\u001b[0m\u001b[0munused_args\u001b[0m\u001b[1;33m,\u001b[0m \u001b[1;33m**\u001b[0m\u001b[0munused_kwds\u001b[0m\u001b[1;33m)\u001b[0m\u001b[1;33m:\u001b[0m\u001b[1;33m\u001b[0m\u001b[1;33m\u001b[0m\u001b[0m\n",
      "\u001b[1;32m~\\Anaconda3\\lib\\site-packages\\tensorflow\\python\\eager\\function.py\u001b[0m in \u001b[0;36m_get_concrete_function_internal_garbage_collected\u001b[1;34m(self, *args, **kwargs)\u001b[0m\n\u001b[0;32m   1347\u001b[0m     \u001b[1;32mif\u001b[0m \u001b[0mself\u001b[0m\u001b[1;33m.\u001b[0m\u001b[0minput_signature\u001b[0m\u001b[1;33m:\u001b[0m\u001b[1;33m\u001b[0m\u001b[1;33m\u001b[0m\u001b[0m\n\u001b[0;32m   1348\u001b[0m       \u001b[0margs\u001b[0m\u001b[1;33m,\u001b[0m \u001b[0mkwargs\u001b[0m \u001b[1;33m=\u001b[0m \u001b[1;32mNone\u001b[0m\u001b[1;33m,\u001b[0m \u001b[1;32mNone\u001b[0m\u001b[1;33m\u001b[0m\u001b[1;33m\u001b[0m\u001b[0m\n\u001b[1;32m-> 1349\u001b[1;33m     \u001b[0mgraph_function\u001b[0m\u001b[1;33m,\u001b[0m \u001b[0m_\u001b[0m\u001b[1;33m,\u001b[0m \u001b[0m_\u001b[0m \u001b[1;33m=\u001b[0m \u001b[0mself\u001b[0m\u001b[1;33m.\u001b[0m\u001b[0m_maybe_define_function\u001b[0m\u001b[1;33m(\u001b[0m\u001b[0margs\u001b[0m\u001b[1;33m,\u001b[0m \u001b[0mkwargs\u001b[0m\u001b[1;33m)\u001b[0m\u001b[1;33m\u001b[0m\u001b[1;33m\u001b[0m\u001b[0m\n\u001b[0m\u001b[0;32m   1350\u001b[0m     \u001b[1;32mreturn\u001b[0m \u001b[0mgraph_function\u001b[0m\u001b[1;33m\u001b[0m\u001b[1;33m\u001b[0m\u001b[0m\n\u001b[0;32m   1351\u001b[0m \u001b[1;33m\u001b[0m\u001b[0m\n",
      "\u001b[1;32m~\\Anaconda3\\lib\\site-packages\\tensorflow\\python\\eager\\function.py\u001b[0m in \u001b[0;36m_maybe_define_function\u001b[1;34m(self, args, kwargs)\u001b[0m\n\u001b[0;32m   1650\u001b[0m       \u001b[0mgraph_function\u001b[0m \u001b[1;33m=\u001b[0m \u001b[0mself\u001b[0m\u001b[1;33m.\u001b[0m\u001b[0m_function_cache\u001b[0m\u001b[1;33m.\u001b[0m\u001b[0mprimary\u001b[0m\u001b[1;33m.\u001b[0m\u001b[0mget\u001b[0m\u001b[1;33m(\u001b[0m\u001b[0mcache_key\u001b[0m\u001b[1;33m,\u001b[0m \u001b[1;32mNone\u001b[0m\u001b[1;33m)\u001b[0m\u001b[1;33m\u001b[0m\u001b[1;33m\u001b[0m\u001b[0m\n\u001b[0;32m   1651\u001b[0m       \u001b[1;32mif\u001b[0m \u001b[0mgraph_function\u001b[0m \u001b[1;32mis\u001b[0m \u001b[1;32mNone\u001b[0m\u001b[1;33m:\u001b[0m\u001b[1;33m\u001b[0m\u001b[1;33m\u001b[0m\u001b[0m\n\u001b[1;32m-> 1652\u001b[1;33m         \u001b[0mgraph_function\u001b[0m \u001b[1;33m=\u001b[0m \u001b[0mself\u001b[0m\u001b[1;33m.\u001b[0m\u001b[0m_create_graph_function\u001b[0m\u001b[1;33m(\u001b[0m\u001b[0margs\u001b[0m\u001b[1;33m,\u001b[0m \u001b[0mkwargs\u001b[0m\u001b[1;33m)\u001b[0m\u001b[1;33m\u001b[0m\u001b[1;33m\u001b[0m\u001b[0m\n\u001b[0m\u001b[0;32m   1653\u001b[0m         \u001b[0mself\u001b[0m\u001b[1;33m.\u001b[0m\u001b[0m_function_cache\u001b[0m\u001b[1;33m.\u001b[0m\u001b[0mprimary\u001b[0m\u001b[1;33m[\u001b[0m\u001b[0mcache_key\u001b[0m\u001b[1;33m]\u001b[0m \u001b[1;33m=\u001b[0m \u001b[0mgraph_function\u001b[0m\u001b[1;33m\u001b[0m\u001b[1;33m\u001b[0m\u001b[0m\n\u001b[0;32m   1654\u001b[0m       \u001b[1;32mreturn\u001b[0m \u001b[0mgraph_function\u001b[0m\u001b[1;33m,\u001b[0m \u001b[0margs\u001b[0m\u001b[1;33m,\u001b[0m \u001b[0mkwargs\u001b[0m\u001b[1;33m\u001b[0m\u001b[1;33m\u001b[0m\u001b[0m\n",
      "\u001b[1;32m~\\Anaconda3\\lib\\site-packages\\tensorflow\\python\\eager\\function.py\u001b[0m in \u001b[0;36m_create_graph_function\u001b[1;34m(self, args, kwargs, override_flat_arg_shapes)\u001b[0m\n\u001b[0;32m   1543\u001b[0m             \u001b[0marg_names\u001b[0m\u001b[1;33m=\u001b[0m\u001b[0marg_names\u001b[0m\u001b[1;33m,\u001b[0m\u001b[1;33m\u001b[0m\u001b[1;33m\u001b[0m\u001b[0m\n\u001b[0;32m   1544\u001b[0m             \u001b[0moverride_flat_arg_shapes\u001b[0m\u001b[1;33m=\u001b[0m\u001b[0moverride_flat_arg_shapes\u001b[0m\u001b[1;33m,\u001b[0m\u001b[1;33m\u001b[0m\u001b[1;33m\u001b[0m\u001b[0m\n\u001b[1;32m-> 1545\u001b[1;33m             capture_by_value=self._capture_by_value),\n\u001b[0m\u001b[0;32m   1546\u001b[0m         self._function_attributes)\n\u001b[0;32m   1547\u001b[0m \u001b[1;33m\u001b[0m\u001b[0m\n",
      "\u001b[1;32m~\\Anaconda3\\lib\\site-packages\\tensorflow\\python\\framework\\func_graph.py\u001b[0m in \u001b[0;36mfunc_graph_from_py_func\u001b[1;34m(name, python_func, args, kwargs, signature, func_graph, autograph, autograph_options, add_control_dependencies, arg_names, op_return_value, collections, capture_by_value, override_flat_arg_shapes)\u001b[0m\n\u001b[0;32m    713\u001b[0m                                           converted_func)\n\u001b[0;32m    714\u001b[0m \u001b[1;33m\u001b[0m\u001b[0m\n\u001b[1;32m--> 715\u001b[1;33m       \u001b[0mfunc_outputs\u001b[0m \u001b[1;33m=\u001b[0m \u001b[0mpython_func\u001b[0m\u001b[1;33m(\u001b[0m\u001b[1;33m*\u001b[0m\u001b[0mfunc_args\u001b[0m\u001b[1;33m,\u001b[0m \u001b[1;33m**\u001b[0m\u001b[0mfunc_kwargs\u001b[0m\u001b[1;33m)\u001b[0m\u001b[1;33m\u001b[0m\u001b[1;33m\u001b[0m\u001b[0m\n\u001b[0m\u001b[0;32m    716\u001b[0m \u001b[1;33m\u001b[0m\u001b[0m\n\u001b[0;32m    717\u001b[0m       \u001b[1;31m# invariant: `func_outputs` contains only Tensors, CompositeTensors,\u001b[0m\u001b[1;33m\u001b[0m\u001b[1;33m\u001b[0m\u001b[1;33m\u001b[0m\u001b[0m\n",
      "\u001b[1;32m~\\Anaconda3\\lib\\site-packages\\tensorflow\\python\\eager\\def_function.py\u001b[0m in \u001b[0;36mwrapped_fn\u001b[1;34m(*args, **kwds)\u001b[0m\n\u001b[0;32m    305\u001b[0m         \u001b[1;31m# __wrapped__ allows AutoGraph to swap in a converted function. We give\u001b[0m\u001b[1;33m\u001b[0m\u001b[1;33m\u001b[0m\u001b[1;33m\u001b[0m\u001b[0m\n\u001b[0;32m    306\u001b[0m         \u001b[1;31m# the function a weak reference to itself to avoid a reference cycle.\u001b[0m\u001b[1;33m\u001b[0m\u001b[1;33m\u001b[0m\u001b[1;33m\u001b[0m\u001b[0m\n\u001b[1;32m--> 307\u001b[1;33m         \u001b[1;32mreturn\u001b[0m \u001b[0mweak_wrapped_fn\u001b[0m\u001b[1;33m(\u001b[0m\u001b[1;33m)\u001b[0m\u001b[1;33m.\u001b[0m\u001b[0m__wrapped__\u001b[0m\u001b[1;33m(\u001b[0m\u001b[1;33m*\u001b[0m\u001b[0margs\u001b[0m\u001b[1;33m,\u001b[0m \u001b[1;33m**\u001b[0m\u001b[0mkwds\u001b[0m\u001b[1;33m)\u001b[0m\u001b[1;33m\u001b[0m\u001b[1;33m\u001b[0m\u001b[0m\n\u001b[0m\u001b[0;32m    308\u001b[0m     \u001b[0mweak_wrapped_fn\u001b[0m \u001b[1;33m=\u001b[0m \u001b[0mweakref\u001b[0m\u001b[1;33m.\u001b[0m\u001b[0mref\u001b[0m\u001b[1;33m(\u001b[0m\u001b[0mwrapped_fn\u001b[0m\u001b[1;33m)\u001b[0m\u001b[1;33m\u001b[0m\u001b[1;33m\u001b[0m\u001b[0m\n\u001b[0;32m    309\u001b[0m \u001b[1;33m\u001b[0m\u001b[0m\n",
      "\u001b[1;32m~\\Anaconda3\\lib\\site-packages\\tensorflow\\python\\framework\\func_graph.py\u001b[0m in \u001b[0;36mwrapper\u001b[1;34m(*args, **kwargs)\u001b[0m\n\u001b[0;32m    703\u001b[0m           \u001b[1;32mexcept\u001b[0m \u001b[0mException\u001b[0m \u001b[1;32mas\u001b[0m \u001b[0me\u001b[0m\u001b[1;33m:\u001b[0m  \u001b[1;31m# pylint:disable=broad-except\u001b[0m\u001b[1;33m\u001b[0m\u001b[1;33m\u001b[0m\u001b[0m\n\u001b[0;32m    704\u001b[0m             \u001b[1;32mif\u001b[0m \u001b[0mhasattr\u001b[0m\u001b[1;33m(\u001b[0m\u001b[0me\u001b[0m\u001b[1;33m,\u001b[0m \u001b[1;34m\"ag_error_metadata\"\u001b[0m\u001b[1;33m)\u001b[0m\u001b[1;33m:\u001b[0m\u001b[1;33m\u001b[0m\u001b[1;33m\u001b[0m\u001b[0m\n\u001b[1;32m--> 705\u001b[1;33m               \u001b[1;32mraise\u001b[0m \u001b[0me\u001b[0m\u001b[1;33m.\u001b[0m\u001b[0mag_error_metadata\u001b[0m\u001b[1;33m.\u001b[0m\u001b[0mto_exception\u001b[0m\u001b[1;33m(\u001b[0m\u001b[0mtype\u001b[0m\u001b[1;33m(\u001b[0m\u001b[0me\u001b[0m\u001b[1;33m)\u001b[0m\u001b[1;33m)\u001b[0m\u001b[1;33m\u001b[0m\u001b[1;33m\u001b[0m\u001b[0m\n\u001b[0m\u001b[0;32m    706\u001b[0m             \u001b[1;32melse\u001b[0m\u001b[1;33m:\u001b[0m\u001b[1;33m\u001b[0m\u001b[1;33m\u001b[0m\u001b[0m\n\u001b[0;32m    707\u001b[0m               \u001b[1;32mraise\u001b[0m\u001b[1;33m\u001b[0m\u001b[1;33m\u001b[0m\u001b[0m\n",
      "\u001b[1;31mTypeError\u001b[0m: in converted code:\n\n    <ipython-input-51-8514cf2fc879>:54 train_step *\n        out_real = Discriminator(images_real, training = True)\n    C:\\Users\\abhim\\Anaconda3\\lib\\site-packages\\tensorflow\\python\\keras\\engine\\base_layer.py:634 __call__\n        outputs = call_fn(inputs, *args, **kwargs)\n    C:\\Users\\abhim\\Anaconda3\\lib\\site-packages\\tensorflow\\python\\keras\\engine\\sequential.py:247 call\n        return super(Sequential, self).call(inputs, training=training, mask=mask)\n    C:\\Users\\abhim\\Anaconda3\\lib\\site-packages\\tensorflow\\python\\keras\\engine\\network.py:751 call\n        return self._run_internal_graph(inputs, training=training, mask=mask)\n    C:\\Users\\abhim\\Anaconda3\\lib\\site-packages\\tensorflow\\python\\keras\\engine\\network.py:893 _run_internal_graph\n        output_tensors = layer(computed_tensors, **kwargs)\n    C:\\Users\\abhim\\Anaconda3\\lib\\site-packages\\tensorflow\\python\\keras\\engine\\base_layer.py:634 __call__\n        outputs = call_fn(inputs, *args, **kwargs)\n    C:\\Users\\abhim\\Anaconda3\\lib\\site-packages\\tensorflow\\python\\keras\\layers\\convolutional.py:196 call\n        outputs = self._convolution_op(inputs, self.kernel)\n    C:\\Users\\abhim\\Anaconda3\\lib\\site-packages\\tensorflow\\python\\ops\\nn_ops.py:1079 __call__\n        return self.conv_op(inp, filter)\n    C:\\Users\\abhim\\Anaconda3\\lib\\site-packages\\tensorflow\\python\\ops\\nn_ops.py:635 __call__\n        return self.call(inp, filter)\n    C:\\Users\\abhim\\Anaconda3\\lib\\site-packages\\tensorflow\\python\\ops\\nn_ops.py:234 __call__\n        name=self.name)\n    C:\\Users\\abhim\\Anaconda3\\lib\\site-packages\\tensorflow\\python\\ops\\nn_ops.py:1953 conv2d\n        name=name)\n    C:\\Users\\abhim\\Anaconda3\\lib\\site-packages\\tensorflow\\python\\ops\\gen_nn_ops.py:1160 conv2d\n        data_format=data_format, dilations=dilations, name=name)\n    C:\\Users\\abhim\\Anaconda3\\lib\\site-packages\\tensorflow\\python\\framework\\op_def_library.py:563 _apply_op_helper\n        inferred_from[input_arg.type_attr]))\n\n    TypeError: Input 'filter' of 'Conv2D' Op has type float32 that does not match type float64 of argument 'input'.\n"
     ]
    }
   ],
   "source": [
    "train(ds_train, 50)"
   ]
  },
  {
   "cell_type": "code",
   "execution_count": null,
   "metadata": {
    "colab": {},
    "colab_type": "code",
    "id": "t4URHtuEGQB3"
   },
   "outputs": [],
   "source": [
    "Generator.save('Generator')\n",
    "Discriminator.save('Discriminator')"
   ]
  },
  {
   "cell_type": "code",
   "execution_count": null,
   "metadata": {
    "colab": {},
    "colab_type": "code",
    "id": "sX6qlfE_HS5G"
   },
   "outputs": [],
   "source": [
    "seed = tf.zeros((1, 100))\n",
    "img = Generator(seed)\n",
    "plot_channel(img[0], 0)\n",
    "Discriminator(img)"
   ]
  },
  {
   "cell_type": "code",
   "execution_count": null,
   "metadata": {
    "colab": {},
    "colab_type": "code",
    "id": "7-CqJuNb5Vz0"
   },
   "outputs": [],
   "source": [
    "# Things to experiment with\n",
    "## Learning rate -- change to 0.001\n",
    "## use_bias\n",
    "## Larger image"
   ]
  }
 ],
 "metadata": {
  "colab": {
   "authorship_tag": "ABX9TyOKEdYfzeSMhBYtnqRC31LJ",
   "collapsed_sections": [],
   "name": "This Chinese symbol does not exist.ipynb",
   "provenance": [],
   "toc_visible": true
  },
  "kernelspec": {
   "display_name": "Python 3",
   "language": "python",
   "name": "python3"
  },
  "language_info": {
   "codemirror_mode": {
    "name": "ipython",
    "version": 3
   },
   "file_extension": ".py",
   "mimetype": "text/x-python",
   "name": "python",
   "nbconvert_exporter": "python",
   "pygments_lexer": "ipython3",
   "version": "3.7.3"
  }
 },
 "nbformat": 4,
 "nbformat_minor": 1
}
